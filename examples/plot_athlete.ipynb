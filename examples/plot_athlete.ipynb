{
 "cells": [
  {
   "cell_type": "markdown",
   "metadata": {},
   "source": [
    "#Plotting data of an athlete"
   ]
  },
  {
   "cell_type": "code",
   "execution_count": 1,
   "metadata": {
    "collapsed": true
   },
   "outputs": [],
   "source": [
    "import matplotlib.pylab as pylab\n",
    "%matplotlib inline\n",
    "pylab.rcParams['figure.figsize'] = 20, 14\n",
    "pylab.rcParams['font.size'] = 18\n",
    "import sys\n",
    "sys.path.insert(0, '../triviz/')\n",
    "from utils import *\n",
    "from modele import *"
   ]
  },
  {
   "cell_type": "code",
   "execution_count": 2,
   "metadata": {
    "collapsed": true
   },
   "outputs": [],
   "source": [
    "T = TRICLAIRModele()"
   ]
  },
  {
   "cell_type": "markdown",
   "metadata": {},
   "source": [
    "## Get Ranking of 2014"
   ]
  },
  {
   "cell_type": "code",
   "execution_count": 3,
   "metadata": {
    "collapsed": false
   },
   "outputs": [
    {
     "name": "stdout",
     "output_type": "stream",
     "text": [
      ":: Calling get_ranking_athletes: Loading ranking of athletes\n"
     ]
    },
    {
     "name": "stderr",
     "output_type": "stream",
     "text": [
      "/Library/Frameworks/Python.framework/Versions/2.7/lib/python2.7/site-packages/pandas/core/common.py:495: UnicodeWarning: Unicode equal comparison failed to convert both arguments to Unicode - interpreting them as being unequal\n",
      "  mask = arr == x\n"
     ]
    }
   ],
   "source": [
    "R=T.get_ranking_athletes(2014)"
   ]
  },
  {
   "cell_type": "code",
   "execution_count": 4,
   "metadata": {
    "collapsed": false,
    "scrolled": true
   },
   "outputs": [
    {
     "data": {
      "text/html": [
       "<div style=\"max-height:1000px;max-width:1500px;overflow:auto;\">\n",
       "<table border=\"1\" class=\"dataframe\">\n",
       "  <thead>\n",
       "    <tr style=\"text-align: right;\">\n",
       "      <th></th>\n",
       "      <th>club</th>\n",
       "      <th>id</th>\n",
       "      <th>name</th>\n",
       "      <th>points</th>\n",
       "      <th>ranking</th>\n",
       "      <th>sex</th>\n",
       "    </tr>\n",
       "  </thead>\n",
       "  <tbody>\n",
       "    <tr>\n",
       "      <th>0</th>\n",
       "      <td>     VAULX-EN-VELIN TRIATHLON</td>\n",
       "      <td> 24880</td>\n",
       "      <td>  RODRIGUEZ JOHAN</td>\n",
       "      <td> 11889</td>\n",
       "      <td> 1</td>\n",
       "      <td> M</td>\n",
       "    </tr>\n",
       "    <tr>\n",
       "      <th>1</th>\n",
       "      <td>  TRIATHLON ROMANAIS PÉAGEOIS</td>\n",
       "      <td> 24847</td>\n",
       "      <td>      DOLLE BRICE</td>\n",
       "      <td> 10183</td>\n",
       "      <td> 2</td>\n",
       "      <td> M</td>\n",
       "    </tr>\n",
       "    <tr>\n",
       "      <th>2</th>\n",
       "      <td>           RILLIEUX TRIATHLON</td>\n",
       "      <td> 24908</td>\n",
       "      <td>   NOASCONE KEVIN</td>\n",
       "      <td>  9040</td>\n",
       "      <td> 3</td>\n",
       "      <td> M</td>\n",
       "    </tr>\n",
       "    <tr>\n",
       "      <th>3</th>\n",
       "      <td>     TEAM MERMILLOD TRIATHLON</td>\n",
       "      <td> 25888</td>\n",
       "      <td>  DUPONT PHILIPPE</td>\n",
       "      <td>  8937</td>\n",
       "      <td> 4</td>\n",
       "      <td> M</td>\n",
       "    </tr>\n",
       "    <tr>\n",
       "      <th>4</th>\n",
       "      <td> VALLONS DE LA TOUR TRIATHLON</td>\n",
       "      <td> 24964</td>\n",
       "      <td> GAILHOT JONATHAN</td>\n",
       "      <td>  8156</td>\n",
       "      <td> 5</td>\n",
       "      <td> M</td>\n",
       "    </tr>\n",
       "  </tbody>\n",
       "</table>\n",
       "</div>"
      ],
      "text/plain": [
       "                           club     id              name  points  ranking sex\n",
       "0      VAULX-EN-VELIN TRIATHLON  24880   RODRIGUEZ JOHAN   11889        1   M\n",
       "1   TRIATHLON ROMANAIS PÉAGEOIS  24847       DOLLE BRICE   10183        2   M\n",
       "2            RILLIEUX TRIATHLON  24908    NOASCONE KEVIN    9040        3   M\n",
       "3      TEAM MERMILLOD TRIATHLON  25888   DUPONT PHILIPPE    8937        4   M\n",
       "4  VALLONS DE LA TOUR TRIATHLON  24964  GAILHOT JONATHAN    8156        5   M"
      ]
     },
     "execution_count": 4,
     "metadata": {},
     "output_type": "execute_result"
    }
   ],
   "source": [
    "R.head()"
   ]
  },
  {
   "cell_type": "markdown",
   "metadata": {},
   "source": [
    "## Get data of one athlete (Rodriguez Johan - 2014)"
   ]
  },
  {
   "cell_type": "markdown",
   "metadata": {},
   "source": [
    "### Raw data"
   ]
  },
  {
   "cell_type": "code",
   "execution_count": 5,
   "metadata": {
    "collapsed": false
   },
   "outputs": [
    {
     "name": "stdout",
     "output_type": "stream",
     "text": [
      ":: Calling get_data_athlete: Loading data of athlete\n"
     ]
    }
   ],
   "source": [
    "P=T.get_data_athlete(24880)"
   ]
  },
  {
   "cell_type": "code",
   "execution_count": 6,
   "metadata": {
    "collapsed": false
   },
   "outputs": [
    {
     "data": {
      "text/html": [
       "<div style=\"max-height:1000px;max-width:1500px;overflow:auto;\">\n",
       "<table border=\"1\" class=\"dataframe\">\n",
       "  <thead>\n",
       "    <tr style=\"text-align: right;\">\n",
       "      <th></th>\n",
       "      <th>coeff</th>\n",
       "      <th>course</th>\n",
       "      <th>date</th>\n",
       "      <th>format</th>\n",
       "      <th>points</th>\n",
       "      <th>total</th>\n",
       "    </tr>\n",
       "  </thead>\n",
       "  <tbody>\n",
       "    <tr>\n",
       "      <th>0 </th>\n",
       "      <td> 3</td>\n",
       "      <td>    Triathlon d'Aix-les-Bains</td>\n",
       "      <td>2014-09-14</td>\n",
       "      <td>                  M</td>\n",
       "      <td> 459</td>\n",
       "      <td> 1377</td>\n",
       "    </tr>\n",
       "    <tr>\n",
       "      <th>1 </th>\n",
       "      <td> 3</td>\n",
       "      <td>      Triathlon du Mont Blanc</td>\n",
       "      <td>2014-08-24</td>\n",
       "      <td>                  M</td>\n",
       "      <td> 271</td>\n",
       "      <td>  813</td>\n",
       "    </tr>\n",
       "    <tr>\n",
       "      <th>2 </th>\n",
       "      <td> 3</td>\n",
       "      <td>   Triathlon de l'Alpe d'Huez</td>\n",
       "      <td>2014-07-31</td>\n",
       "      <td>                  M</td>\n",
       "      <td> 365</td>\n",
       "      <td> 1095</td>\n",
       "    </tr>\n",
       "    <tr>\n",
       "      <th>3 </th>\n",
       "      <td> 2</td>\n",
       "      <td>       Triathlon des collines</td>\n",
       "      <td>2014-07-20</td>\n",
       "      <td>                  S</td>\n",
       "      <td> 193</td>\n",
       "      <td>  386</td>\n",
       "    </tr>\n",
       "    <tr>\n",
       "      <th>4 </th>\n",
       "      <td> 3</td>\n",
       "      <td>          Triathlon de Thonon</td>\n",
       "      <td>2014-07-13</td>\n",
       "      <td>                  M</td>\n",
       "      <td> 283</td>\n",
       "      <td>  849</td>\n",
       "    </tr>\n",
       "    <tr>\n",
       "      <th>5 </th>\n",
       "      <td> 2</td>\n",
       "      <td> Triathlon du Lac de Machilly</td>\n",
       "      <td>2014-07-06</td>\n",
       "      <td> S - CLM individuel</td>\n",
       "      <td> 299</td>\n",
       "      <td>  598</td>\n",
       "    </tr>\n",
       "    <tr>\n",
       "      <th>6 </th>\n",
       "      <td> 3</td>\n",
       "      <td>           Triathlon d'Annecy</td>\n",
       "      <td>2014-06-29</td>\n",
       "      <td>                  M</td>\n",
       "      <td> 476</td>\n",
       "      <td> 1428</td>\n",
       "    </tr>\n",
       "    <tr>\n",
       "      <th>7 </th>\n",
       "      <td> 3</td>\n",
       "      <td>  Triathlon du Lac des Sapins</td>\n",
       "      <td>2014-06-15</td>\n",
       "      <td>                  M</td>\n",
       "      <td> 490</td>\n",
       "      <td> 1470</td>\n",
       "    </tr>\n",
       "    <tr>\n",
       "      <th>8 </th>\n",
       "      <td> 3</td>\n",
       "      <td>          Triathlon de Roanne</td>\n",
       "      <td>2014-06-08</td>\n",
       "      <td>                  M</td>\n",
       "      <td> 113</td>\n",
       "      <td>  339</td>\n",
       "    </tr>\n",
       "    <tr>\n",
       "      <th>9 </th>\n",
       "      <td> 3</td>\n",
       "      <td>    Triathlon de l'île Barlet</td>\n",
       "      <td>2014-06-01</td>\n",
       "      <td>                  M</td>\n",
       "      <td> 174</td>\n",
       "      <td>  522</td>\n",
       "    </tr>\n",
       "    <tr>\n",
       "      <th>10</th>\n",
       "      <td> 3</td>\n",
       "      <td> Triathlon de Bourg-en-Bresse</td>\n",
       "      <td>2014-05-25</td>\n",
       "      <td>                  M</td>\n",
       "      <td> 432</td>\n",
       "      <td> 1296</td>\n",
       "    </tr>\n",
       "    <tr>\n",
       "      <th>11</th>\n",
       "      <td> 3</td>\n",
       "      <td>         Triathlon de Rumilly</td>\n",
       "      <td>2014-05-18</td>\n",
       "      <td>                  M</td>\n",
       "      <td> 252</td>\n",
       "      <td>  756</td>\n",
       "    </tr>\n",
       "    <tr>\n",
       "      <th>12</th>\n",
       "      <td> 3</td>\n",
       "      <td>       Triathlon du Tricastin</td>\n",
       "      <td>2014-05-11</td>\n",
       "      <td>                  M</td>\n",
       "      <td> 152</td>\n",
       "      <td>  456</td>\n",
       "    </tr>\n",
       "    <tr>\n",
       "      <th>13</th>\n",
       "      <td> 2</td>\n",
       "      <td>        Triathlon du Dauphiné</td>\n",
       "      <td>2014-05-04</td>\n",
       "      <td>                  S</td>\n",
       "      <td> 252</td>\n",
       "      <td>  504</td>\n",
       "    </tr>\n",
       "  </tbody>\n",
       "</table>\n",
       "</div>"
      ],
      "text/plain": [
       "    coeff                        course       date              format  \\\n",
       "0       3     Triathlon d'Aix-les-Bains 2014-09-14                   M   \n",
       "1       3       Triathlon du Mont Blanc 2014-08-24                   M   \n",
       "2       3    Triathlon de l'Alpe d'Huez 2014-07-31                   M   \n",
       "3       2        Triathlon des collines 2014-07-20                   S   \n",
       "4       3           Triathlon de Thonon 2014-07-13                   M   \n",
       "5       2  Triathlon du Lac de Machilly 2014-07-06  S - CLM individuel   \n",
       "6       3            Triathlon d'Annecy 2014-06-29                   M   \n",
       "7       3   Triathlon du Lac des Sapins 2014-06-15                   M   \n",
       "8       3           Triathlon de Roanne 2014-06-08                   M   \n",
       "9       3     Triathlon de l'île Barlet 2014-06-01                   M   \n",
       "10      3  Triathlon de Bourg-en-Bresse 2014-05-25                   M   \n",
       "11      3          Triathlon de Rumilly 2014-05-18                   M   \n",
       "12      3        Triathlon du Tricastin 2014-05-11                   M   \n",
       "13      2         Triathlon du Dauphiné 2014-05-04                   S   \n",
       "\n",
       "    points  total  \n",
       "0      459   1377  \n",
       "1      271    813  \n",
       "2      365   1095  \n",
       "3      193    386  \n",
       "4      283    849  \n",
       "5      299    598  \n",
       "6      476   1428  \n",
       "7      490   1470  \n",
       "8      113    339  \n",
       "9      174    522  \n",
       "10     432   1296  \n",
       "11     252    756  \n",
       "12     152    456  \n",
       "13     252    504  "
      ]
     },
     "execution_count": 6,
     "metadata": {},
     "output_type": "execute_result"
    }
   ],
   "source": [
    "P"
   ]
  },
  {
   "cell_type": "markdown",
   "metadata": {},
   "source": [
    "### Get data from the planning"
   ]
  },
  {
   "cell_type": "code",
   "execution_count": 7,
   "metadata": {
    "collapsed": false
   },
   "outputs": [
    {
     "name": "stdout",
     "output_type": "stream",
     "text": [
      ":: Calling get_list_triathlons: Loading list of triathlons\n"
     ]
    }
   ],
   "source": [
    "L=T.get_list_triathlons(2014)"
   ]
  },
  {
   "cell_type": "code",
   "execution_count": 8,
   "metadata": {
    "collapsed": false
   },
   "outputs": [
    {
     "data": {
      "text/html": [
       "<div style=\"max-height:1000px;max-width:1500px;overflow:auto;\">\n",
       "<table border=\"1\" class=\"dataframe\">\n",
       "  <thead>\n",
       "    <tr style=\"text-align: right;\">\n",
       "      <th></th>\n",
       "      <th>date</th>\n",
       "      <th>name</th>\n",
       "      <th>format</th>\n",
       "      <th>link</th>\n",
       "    </tr>\n",
       "  </thead>\n",
       "  <tbody>\n",
       "    <tr>\n",
       "      <th>0</th>\n",
       "      <td>2014-09-21</td>\n",
       "      <td>      Triathlon de Vaulx-en-Velin</td>\n",
       "      <td>  S</td>\n",
       "      <td>      /triathlon-vaulx-en-velin-resultats-1833.htm</td>\n",
       "    </tr>\n",
       "    <tr>\n",
       "      <th>1</th>\n",
       "      <td>2014-09-21</td>\n",
       "      <td>      Triathlon de Vaulx-en-Velin</td>\n",
       "      <td> XS</td>\n",
       "      <td>      /triathlon-vaulx-en-velin-resultats-1834.htm</td>\n",
       "    </tr>\n",
       "    <tr>\n",
       "      <th>2</th>\n",
       "      <td>2014-09-14</td>\n",
       "      <td>        Triathlon d'Aix-les-Bains</td>\n",
       "      <td> XS</td>\n",
       "      <td>       /triathlon-aix-les-bains-resultats-1831.htm</td>\n",
       "    </tr>\n",
       "    <tr>\n",
       "      <th>3</th>\n",
       "      <td>2014-09-14</td>\n",
       "      <td>        Triathlon d'Aix-les-Bains</td>\n",
       "      <td>  M</td>\n",
       "      <td>       /triathlon-aix-les-bains-resultats-1830.htm</td>\n",
       "    </tr>\n",
       "    <tr>\n",
       "      <th>4</th>\n",
       "      <td>2014-09-07</td>\n",
       "      <td> Triathlon de St Pierre d'Albigny</td>\n",
       "      <td>  S</td>\n",
       "      <td> /triathlon-st-pierre-d-albigny-resultats-1824.htm</td>\n",
       "    </tr>\n",
       "  </tbody>\n",
       "</table>\n",
       "</div>"
      ],
      "text/plain": [
       "        date                              name format  \\\n",
       "0 2014-09-21       Triathlon de Vaulx-en-Velin      S   \n",
       "1 2014-09-21       Triathlon de Vaulx-en-Velin     XS   \n",
       "2 2014-09-14         Triathlon d'Aix-les-Bains     XS   \n",
       "3 2014-09-14         Triathlon d'Aix-les-Bains      M   \n",
       "4 2014-09-07  Triathlon de St Pierre d'Albigny      S   \n",
       "\n",
       "                                                link  \n",
       "0       /triathlon-vaulx-en-velin-resultats-1833.htm  \n",
       "1       /triathlon-vaulx-en-velin-resultats-1834.htm  \n",
       "2        /triathlon-aix-les-bains-resultats-1831.htm  \n",
       "3        /triathlon-aix-les-bains-resultats-1830.htm  \n",
       "4  /triathlon-st-pierre-d-albigny-resultats-1824.htm  "
      ]
     },
     "execution_count": 8,
     "metadata": {},
     "output_type": "execute_result"
    }
   ],
   "source": [
    "L.head()"
   ]
  },
  {
   "cell_type": "markdown",
   "metadata": {},
   "source": [
    "The variable *links* contains all the weblinks of the events held by the athlete in 2014."
   ]
  },
  {
   "cell_type": "code",
   "execution_count": 9,
   "metadata": {
    "collapsed": false
   },
   "outputs": [],
   "source": [
    "links=sum([list(L['link'][(L['name']==course) & (L['format']==form)]) for course,form in zip(P['course'],P['format'])],[])"
   ]
  },
  {
   "cell_type": "markdown",
   "metadata": {},
   "source": [
    "**Warning**: This list takes time to compute."
   ]
  },
  {
   "cell_type": "code",
   "execution_count": 10,
   "metadata": {
    "collapsed": false
   },
   "outputs": [
    {
     "name": "stdout",
     "output_type": "stream",
     "text": [
      ":: Calling get_data_triathlon: Loading data of triathlon\n",
      ":: Calling get_data_triathlon: Loading data of triathlon\n",
      ":: Calling get_data_triathlon: Loading data of triathlon\n",
      ":: Calling get_data_triathlon: Loading data of triathlon\n",
      ":: Calling get_data_triathlon: Loading data of triathlon\n",
      ":: Calling get_data_triathlon: Loading data of triathlon\n",
      ":: Calling get_data_triathlon: Loading data of triathlon\n",
      ":: Calling get_data_triathlon: Loading data of triathlon\n",
      ":: Calling get_data_triathlon: Loading data of triathlon\n",
      ":: Calling get_data_triathlon: Loading data of triathlon\n",
      ":: Calling get_data_triathlon: Loading data of triathlon\n",
      ":: Calling get_data_triathlon: Loading data of triathlon\n",
      ":: Calling get_data_triathlon: Loading data of triathlon\n",
      ":: Calling get_data_triathlon: Loading data of triathlon\n"
     ]
    }
   ],
   "source": [
    "tris = [T.get_data_triathlon(l,2014) for l in links]"
   ]
  },
  {
   "cell_type": "code",
   "execution_count": 11,
   "metadata": {
    "collapsed": false,
    "scrolled": true
   },
   "outputs": [],
   "source": [
    "resultats = []\n",
    "for trit,name,form in zip(tris,P['course'],P['format']):\n",
    "    trit = trit.dropna()\n",
    "    tri = pd.concat([trit.loc[:,:'Sexe'],trit.loc[:,'Scratch':].apply(normalize_col)],axis=1)\n",
    "    resultat = tri[(tri['Nom']=='RODRIGUEZ JOHAN') | (tri['Nom'] == 'JOHAN RODRIGUEZ')]\n",
    "    if resultat.empty: \n",
    "        pass\n",
    "        #print dir(resultat)\n",
    "    resultats.append(resultat.loc[:,'Scratch':])\n",
    "resultats=pd.concat(resultats).reset_index()    "
   ]
  },
  {
   "cell_type": "code",
   "execution_count": 12,
   "metadata": {
    "collapsed": false
   },
   "outputs": [],
   "source": [
    "resultats=resultats.rename(columns={'index':'Place'})"
   ]
  },
  {
   "cell_type": "code",
   "execution_count": 13,
   "metadata": {
    "collapsed": false
   },
   "outputs": [],
   "source": [
    "resultats=pd.concat([P['course'],resultats],axis=1)"
   ]
  },
  {
   "cell_type": "code",
   "execution_count": 14,
   "metadata": {
    "collapsed": false
   },
   "outputs": [],
   "source": [
    "resultats = resultats.drop('Place',axis=1)\n",
    "resultats = resultats.set_index('course')"
   ]
  },
  {
   "cell_type": "code",
   "execution_count": 15,
   "metadata": {
    "collapsed": false
   },
   "outputs": [
    {
     "data": {
      "text/html": [
       "<div style=\"max-height:1000px;max-width:1500px;overflow:auto;\">\n",
       "<table border=\"1\" class=\"dataframe\">\n",
       "  <thead>\n",
       "    <tr style=\"text-align: right;\">\n",
       "      <th></th>\n",
       "      <th>Scratch</th>\n",
       "      <th>Natation</th>\n",
       "      <th>Velo</th>\n",
       "      <th>Cap</th>\n",
       "    </tr>\n",
       "    <tr>\n",
       "      <th>course</th>\n",
       "      <th></th>\n",
       "      <th></th>\n",
       "      <th></th>\n",
       "      <th></th>\n",
       "    </tr>\n",
       "  </thead>\n",
       "  <tbody>\n",
       "    <tr>\n",
       "      <th>Triathlon d'Aix-les-Bains</th>\n",
       "      <td> 110.023810</td>\n",
       "      <td> 103.204173</td>\n",
       "      <td> 104.477318</td>\n",
       "      <td> 128.758170</td>\n",
       "    </tr>\n",
       "    <tr>\n",
       "      <th>Triathlon du Mont Blanc</th>\n",
       "      <td> 111.748952</td>\n",
       "      <td> 100.823045</td>\n",
       "      <td> 109.002294</td>\n",
       "      <td> 122.995679</td>\n",
       "    </tr>\n",
       "    <tr>\n",
       "      <th>Triathlon de l'Alpe d'Huez</th>\n",
       "      <td> 126.202587</td>\n",
       "      <td> 113.109426</td>\n",
       "      <td> 123.393435</td>\n",
       "      <td> 142.203052</td>\n",
       "    </tr>\n",
       "    <tr>\n",
       "      <th>Triathlon des collines</th>\n",
       "      <td> 111.637512</td>\n",
       "      <td> 118.314425</td>\n",
       "      <td> 105.958549</td>\n",
       "      <td> 119.289340</td>\n",
       "    </tr>\n",
       "    <tr>\n",
       "      <th>Triathlon de Thonon</th>\n",
       "      <td> 112.445933</td>\n",
       "      <td> 115.625000</td>\n",
       "      <td> 109.133946</td>\n",
       "      <td> 115.837860</td>\n",
       "    </tr>\n",
       "    <tr>\n",
       "      <th>Triathlon du Lac de Machilly</th>\n",
       "      <td> 111.682586</td>\n",
       "      <td> 113.874788</td>\n",
       "      <td> 107.582740</td>\n",
       "      <td> 119.146919</td>\n",
       "    </tr>\n",
       "    <tr>\n",
       "      <th>Triathlon d'Annecy</th>\n",
       "      <td> 107.696158</td>\n",
       "      <td> 101.563858</td>\n",
       "      <td> 105.160181</td>\n",
       "      <td> 113.623327</td>\n",
       "    </tr>\n",
       "    <tr>\n",
       "      <th>Triathlon du Lac des Sapins</th>\n",
       "      <td> 108.911215</td>\n",
       "      <td>  99.286224</td>\n",
       "      <td> 103.971708</td>\n",
       "      <td> 127.017387</td>\n",
       "    </tr>\n",
       "    <tr>\n",
       "      <th>Triathlon de Roanne</th>\n",
       "      <td> 109.567617</td>\n",
       "      <td> 111.535049</td>\n",
       "      <td> 101.179719</td>\n",
       "      <td> 122.000000</td>\n",
       "    </tr>\n",
       "    <tr>\n",
       "      <th>Triathlon de l'île Barlet</th>\n",
       "      <td> 107.430698</td>\n",
       "      <td> 108.592058</td>\n",
       "      <td> 101.791185</td>\n",
       "      <td> 117.807586</td>\n",
       "    </tr>\n",
       "    <tr>\n",
       "      <th>Triathlon de Bourg-en-Bresse</th>\n",
       "      <td> 111.785868</td>\n",
       "      <td> 103.223070</td>\n",
       "      <td> 109.223437</td>\n",
       "      <td> 120.478983</td>\n",
       "    </tr>\n",
       "    <tr>\n",
       "      <th>Triathlon de Rumilly</th>\n",
       "      <td> 111.059720</td>\n",
       "      <td> 102.600671</td>\n",
       "      <td> 105.102539</td>\n",
       "      <td> 127.713178</td>\n",
       "    </tr>\n",
       "    <tr>\n",
       "      <th>Triathlon du Tricastin</th>\n",
       "      <td> 115.873460</td>\n",
       "      <td> 119.370861</td>\n",
       "      <td> 107.874421</td>\n",
       "      <td> 129.073171</td>\n",
       "    </tr>\n",
       "    <tr>\n",
       "      <th>Triathlon du Dauphiné</th>\n",
       "      <td>        NaN</td>\n",
       "      <td>        NaN</td>\n",
       "      <td>        NaN</td>\n",
       "      <td>        NaN</td>\n",
       "    </tr>\n",
       "  </tbody>\n",
       "</table>\n",
       "</div>"
      ],
      "text/plain": [
       "                                 Scratch    Natation        Velo         Cap\n",
       "course                                                                      \n",
       "Triathlon d'Aix-les-Bains     110.023810  103.204173  104.477318  128.758170\n",
       "Triathlon du Mont Blanc       111.748952  100.823045  109.002294  122.995679\n",
       "Triathlon de l'Alpe d'Huez    126.202587  113.109426  123.393435  142.203052\n",
       "Triathlon des collines        111.637512  118.314425  105.958549  119.289340\n",
       "Triathlon de Thonon           112.445933  115.625000  109.133946  115.837860\n",
       "Triathlon du Lac de Machilly  111.682586  113.874788  107.582740  119.146919\n",
       "Triathlon d'Annecy            107.696158  101.563858  105.160181  113.623327\n",
       "Triathlon du Lac des Sapins   108.911215   99.286224  103.971708  127.017387\n",
       "Triathlon de Roanne           109.567617  111.535049  101.179719  122.000000\n",
       "Triathlon de l'île Barlet     107.430698  108.592058  101.791185  117.807586\n",
       "Triathlon de Bourg-en-Bresse  111.785868  103.223070  109.223437  120.478983\n",
       "Triathlon de Rumilly          111.059720  102.600671  105.102539  127.713178\n",
       "Triathlon du Tricastin        115.873460  119.370861  107.874421  129.073171\n",
       "Triathlon du Dauphiné                NaN         NaN         NaN         NaN"
      ]
     },
     "execution_count": 15,
     "metadata": {},
     "output_type": "execute_result"
    }
   ],
   "source": [
    "resultats"
   ]
  },
  {
   "cell_type": "markdown",
   "metadata": {},
   "source": [
    "## Display data"
   ]
  },
  {
   "cell_type": "code",
   "execution_count": 18,
   "metadata": {
    "collapsed": false
   },
   "outputs": [
    {
     "data": {
      "text/plain": [
       "<matplotlib.text.Text at 0x10eae1950>"
      ]
     },
     "execution_count": 18,
     "metadata": {},
     "output_type": "execute_result"
    },
    {
     "data": {
      "image/png": "[encoded data removed]",
      "text/plain": [
       "<matplotlib.figure.Figure at 0x10affb090>"
      ]
     },
     "metadata": {},
     "output_type": "display_data"
    }
   ],
   "source": [
    "resultats.plot(ylim=(90,150),kind='bar',rot=90)\n",
    "plt.title('Season 2014 of Johan Rodriguez')\n",
    "plt.xlabel('Time (% winner)')"
   ]
  },
  {
   "cell_type": "code",
   "execution_count": 17,
   "metadata": {
    "collapsed": false
   },
   "outputs": [
    {
     "data": {
      "text/plain": [
       "<matplotlib.text.Text at 0x10cdc3f50>"
      ]
     },
     "execution_count": 17,
     "metadata": {},
     "output_type": "execute_result"
    },
    {
     "data": {
      "image/png": "[encoded data removed]",
      "text/plain": [
       "<matplotlib.figure.Figure at 0x10cb88b50>"
      ]
     },
     "metadata": {},
     "output_type": "display_data"
    }
   ],
   "source": [
    "resultats.plot(kind='box',use_index=True)\n",
    "plt.title('Season 2014 of Johan Rodriguez')\n",
    "plt.ylabel('Time (% winner)')"
   ]
  },
  {
   "cell_type": "code",
   "execution_count": null,
   "metadata": {
    "collapsed": true
   },
   "outputs": [],
   "source": []
  }
 ],
 "metadata": {
  "kernelspec": {
   "display_name": "Python 2",
   "language": "python",
   "name": "python2"
  },
  "language_info": {
   "codemirror_mode": {
    "name": "ipython",
    "version": 2
   },
   "file_extension": ".py",
   "mimetype": "text/x-python",
   "name": "python",
   "nbconvert_exporter": "python",
   "pygments_lexer": "ipython2",
   "version": "2.7.1"
  }
 },
 "nbformat": 4,
 "nbformat_minor": 0
}
